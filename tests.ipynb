{
 "cells": [
  {
   "cell_type": "code",
   "execution_count": 1,
   "metadata": {},
   "outputs": [],
   "source": [
    "from hxm_rag.model.modelv2.document import Document\n",
    "from hxm_rag.model.modelv2.container import Container\n",
    "from hxm_rag.model.modelv2.block import Block\n",
    "from hxm_rag.model.readersv2.PdfReader import PdfReader\n",
    "from hxm_rag.model.readers.PdfReader import PdfReader as PdfReader1\n",
    "from hxm_rag.model.readersv2.WordReader import WordReader"
   ]
  },
  {
   "cell_type": "code",
   "execution_count": 10,
   "metadata": {},
   "outputs": [],
   "source": [
    "doc = Document(\"data/SGFGAS/Présentation Epargne-logement.docx\")"
   ]
  },
  {
   "cell_type": "code",
   "execution_count": 11,
   "metadata": {},
   "outputs": [
    {
     "name": "stdout",
     "output_type": "stream",
     "text": [
      "Root container : b2723d62-4006-478d-aab9-a5c96c5c9969, Level : 0\n",
      "  Container : c621c75b-1d5b-4ddb-9329-831487a5eca8, Level : 1\n",
      "    Block : 6970b644-de76-40ce-880a-6d4c7456fe16, Level : 1\n",
      "  Container : a43fe086-1f08-4fec-9029-bb6da215944a, Level : 1\n",
      "    Container : 590f66db-d4c5-49e2-b318-4820932cea60, Level : 2\n",
      "      Block : df377f7f-90d4-46d4-8eff-dac82f5d9258, Level : 2\n",
      "  Container : 81e85281-b360-4b56-ae7d-9535881d69d6, Level : 1\n",
      "    Container : 5c3ce421-875d-45ff-bb3c-f717dd19b458, Level : 2\n",
      "      Block : 917e39e9-82b9-46a1-ae2c-a17763626406, Level : 2\n",
      "  Container : bd05aee8-7aef-4197-9f0d-5a95abbb1995, Level : 1\n",
      "    Container : 6a227159-6981-493f-acb0-8ecc3eacf705, Level : 2\n",
      "      Block : 5d0c70e8-d415-4a20-9661-cc6d97c07007, Level : 2\n",
      "  Container : 6d0d9421-e6fa-4366-bcc7-72b76a2bc2d7, Level : 1\n",
      "    Container : 38efe9e3-7986-4f77-b4e5-424c4ee57412, Level : 2\n",
      "      Block : 1aef85ed-dee1-40db-829d-3d6bfab67f00, Level : 2\n",
      "  Container : d795c6c4-4c99-4a5d-ab19-7aa30aef466a, Level : 1\n",
      "    Container : 01201f6e-b01d-401d-9f4f-fe4926894d87, Level : 2\n",
      "      Block : 89033f12-a17d-4acd-b2da-7f18ead8f49f, Level : 2\n"
     ]
    }
   ],
   "source": [
    "doc.root_container.print_structure()"
   ]
  },
  {
   "cell_type": "code",
   "execution_count": 12,
   "metadata": {},
   "outputs": [],
   "source": [
    "content= doc.root_container_dict"
   ]
  },
  {
   "cell_type": "code",
   "execution_count": 13,
   "metadata": {},
   "outputs": [
    {
     "data": {
      "text/plain": [
       "{'type': 'container',\n",
       " 'children': [{'type': 'container',\n",
       "   'children': [{'type': 'block',\n",
       "     'content': 'Dernière mise à jour de cette fiche : 8 février 2018 | Dernière mise à jour de cette fiche : 8 février 2018\\n02/02/2021 | Mise à jour des liens de la documentation juridique consécutive à une migration du site Légifrance\\n\\nEpargne-logement\\xa0: présentation',\n",
       "     'level': 1,\n",
       "     'parent': {...}}],\n",
       "   'content': None,\n",
       "   'level': 1},\n",
       "  {'type': 'container',\n",
       "   'children': [{'type': 'container',\n",
       "     'children': [{'type': 'block',\n",
       "       'content': 'Définition\\n\\nL’épargne-logement est un dispositif en deux temps. A l’issue d’une phase d’épargne, comportant des versements ponctuels ou réguliers sur un compte d’épargne-logement (CEL) ou réguliers sur un plan d’épargne-logement (PEL), il est possible d’obtenir un prêt d’épargne-logement, qui est un prêt réglementé et contractuel accordé aux personnes physiques finançant l’acquisition d’un bien immobilier et/ou le financement de travaux immobiliers. La réalisation de ce prêt est, sous certaines conditions, assortie du versement d’une prime d’Etat.\\n\\nLe prêt est accordé aux personnes physiques qui affectent cette épargne au financement de logements destinés à l’habitation principale ou bien au financement de locaux à usage commercial ou professionnel dès lors qu’ils comportent l’habitation principale du bénéficiaire (CCH, art. L. 315-1, al. 1)',\n",
       "       'level': 2,\n",
       "       'parent': {...}}],\n",
       "     'content': None,\n",
       "     'level': 2}],\n",
       "   'content': None,\n",
       "   'level': 1},\n",
       "  {'type': 'container',\n",
       "   'children': [{'type': 'container',\n",
       "     'children': [{'type': 'block',\n",
       "       'content': 'Mécanisme\\n\\nLe régime de l’épargne-logement recouvre deux mécanismes, celui des comptes d’épargne-logement et celui des plans d’épargne-logement\\xa0:\\n\\nle compte d’épargne-logement (CEL) également appelé livret d’épargne-logement est caractérisé par la liberté des dépôts et des retraits sous réserve de respecter un solde minimum fixé par arrêté. Il est sans limite de durée.\\n\\nle plan d’épargne-logement (PEL) est un contrat caractérisé par l’engagement d’effectuer des versements réguliers, d’un montant minimum entre deux dates anniversaire, et de respecter un délai d’indisponibilité minimum. Sa durée est limitée.',\n",
       "       'level': 2,\n",
       "       'parent': {...}}],\n",
       "     'content': None,\n",
       "     'level': 2}],\n",
       "   'content': None,\n",
       "   'level': 1},\n",
       "  {'type': 'container',\n",
       "   'children': [{'type': 'container',\n",
       "     'children': [{'type': 'block',\n",
       "       'content': 'Règlementation\\n\\nLe régime de l’épargne-logement est régi par les articles L. 315-1 à L. 315-6 du code de la construction et de l’habitation (CCH).\\n\\nLes caractéristiques de la phase d’épargne et de prêt applicables aux CEL sont réglementées par les articles R. 315-1 à R. 315-22 et celles relatives aux PEL le sont par les articles R. 315-24 à R.\\xa0 315-42 du CCH.\\n\\nSelon l’article R. 315-41, les dispositions des CEL sont applicables aux PEL sauf dérogation par disposition spécifique.\\n\\nDepuis le 1er janvier 2014, le suivi réglementaire et statistique ainsi que le contrôle des opérations relatives au régime de l’épargne-logement sont confiés à la Société de Gestion des financements et de la  Garantie de l’Accession Sociale à la propriété (CCH, art. L. 315-5-1).',\n",
       "       'level': 2,\n",
       "       'parent': {...}}],\n",
       "     'content': None,\n",
       "     'level': 2}],\n",
       "   'content': None,\n",
       "   'level': 1},\n",
       "  {'type': 'container',\n",
       "   'children': [{'type': 'container',\n",
       "     'children': [{'type': 'block',\n",
       "       'content': 'Champ d’application territorial\\n\\nLe régime de l’épargne-logement est applicable en France métropolitaine et dans les DOM, y compris Mayotte (Ord. n° 2004-937 du 2 septembre 2004), ainsi qu’à Saint-Pierre-et-Miquelon (Décr. n° 95-331 du 27 mars 1995), en Nouvelle-Calédonie et en Polynésie Française (Décr. n° 2001-383 du 3 mai 2001).',\n",
       "       'level': 2,\n",
       "       'parent': {...}}],\n",
       "     'content': None,\n",
       "     'level': 2}],\n",
       "   'content': None,\n",
       "   'level': 1},\n",
       "  {'type': 'container',\n",
       "   'children': [{'type': 'container',\n",
       "     'children': [{'type': 'block',\n",
       "       'content': 'Etablissements habilités\\n\\nLes dépôts d’épargne-logement sont reçus par les caisses d’épargne ordinaires ainsi que les banques qui s’engagent par convention avec l’Etat à appliquer les règles fixées pour le fonctionnement de l’épargne-logement (CCH, art. L. 315-3).\\n\\nL’Etat a accordé par convention une habilitation générale à des banques et réseaux bancaires pour la gestion des produits d’épargne-logement (au 1er juillet 2014 on recense 76 conventions en vigueur).',\n",
       "       'level': 2,\n",
       "       'parent': {...}}],\n",
       "     'content': None,\n",
       "     'level': 2}],\n",
       "   'content': None,\n",
       "   'level': 1}],\n",
       " 'content': None,\n",
       " 'level': 0}"
      ]
     },
     "execution_count": 13,
     "metadata": {},
     "output_type": "execute_result"
    }
   ],
   "source": [
    "content"
   ]
  },
  {
   "cell_type": "code",
   "execution_count": null,
   "metadata": {},
   "outputs": [],
   "source": []
  }
 ],
 "metadata": {
  "kernelspec": {
   "display_name": "hexs_rag_env",
   "language": "python",
   "name": "python3"
  },
  "language_info": {
   "codemirror_mode": {
    "name": "ipython",
    "version": 3
   },
   "file_extension": ".py",
   "mimetype": "text/x-python",
   "name": "python",
   "nbconvert_exporter": "python",
   "pygments_lexer": "ipython3",
   "version": "3.12.2"
  }
 },
 "nbformat": 4,
 "nbformat_minor": 2
}
