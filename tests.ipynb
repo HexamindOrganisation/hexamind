{
 "cells": [
  {
   "cell_type": "code",
   "execution_count": 3,
   "metadata": {},
   "outputs": [],
   "source": [
    "from hxm_rag.model import WordReader, HtmlReader, Document\n",
    "from hxm_rag.retriever import Retriever\n",
    "from hxm_rag.database.adapters.DbAdapterFactory import DbAdapterFactory\n",
    "from hxm_rag.initializer.initializer import Initializer"
   ]
  },
  {
   "cell_type": "code",
   "execution_count": 5,
   "metadata": {},
   "outputs": [],
   "source": [
    "\n",
    "initializer = Initializer(\n",
    "    db_name='chroma',\n",
    "    database_path='data/database/',\n",
    "    collection_name='chunks',\n",
    "    llm_name='mistral',\n",
    "    llm_api_key='ig1iIyedfO7Sf0m9jdSPEwqFRz0ZGSzB',\n",
    "    model='mistral-large',\n",
    "    embed_model='mistral-embed')"
   ]
  },
  {
   "cell_type": "code",
   "execution_count": 7,
   "metadata": {},
   "outputs": [
    {
     "name": "stdout",
     "output_type": "stream",
     "text": [
      "<class 'hxm_rag.initializer.initializer.Initializer'>\n"
     ]
    }
   ],
   "source": [
    "print(type(initializer))"
   ]
  },
  {
   "cell_type": "code",
   "execution_count": 13,
   "metadata": {},
   "outputs": [
    {
     "name": "stdout",
     "output_type": "stream",
     "text": [
      "<class 'hxm_rag.database.adapters.ChromaDbAdapter.ChromaDbAdapter'>\n"
     ]
    }
   ],
   "source": [
    "db_adapter = initializer.initialize_database()\n",
    "\n",
    "print(type(db_adapter))"
   ]
  },
  {
   "cell_type": "code",
   "execution_count": 14,
   "metadata": {},
   "outputs": [
    {
     "name": "stdout",
     "output_type": "stream",
     "text": [
      "type:  <class 'hxm_rag.llm.adapters.api.MistralApiAdapter.MistralClientAdapter'>  DONE\n",
      "<class 'hxm_rag.llm.llm.LlmAgent.LlmAgent'>\n"
     ]
    }
   ],
   "source": [
    "llm_agent = initializer.initialize_llm()\n",
    "\n",
    "print(type(llm_agent))"
   ]
  },
  {
   "cell_type": "code",
   "execution_count": null,
   "metadata": {},
   "outputs": [],
   "source": [
    "dict_structure = WordReader(\"data/SGFGAS/Epargne-logement phase épargnev2.docx\").get_document_structure()"
   ]
  },
  {
   "cell_type": "code",
   "execution_count": null,
   "metadata": {},
   "outputs": [],
   "source": [
    "dict_structure"
   ]
  },
  {
   "cell_type": "code",
   "execution_count": null,
   "metadata": {},
   "outputs": [],
   "source": [
    "doc = Document(dict_structure)"
   ]
  },
  {
   "cell_type": "code",
   "execution_count": null,
   "metadata": {},
   "outputs": [],
   "source": [
    "doc.root_container"
   ]
  },
  {
   "cell_type": "code",
   "execution_count": null,
   "metadata": {},
   "outputs": [],
   "source": [
    "doc.root_container.print_structure()"
   ]
  },
  {
   "cell_type": "code",
   "execution_count": null,
   "metadata": {},
   "outputs": [],
   "source": []
  }
 ],
 "metadata": {
  "kernelspec": {
   "display_name": "hexs_rag_env",
   "language": "python",
   "name": "python3"
  },
  "language_info": {
   "codemirror_mode": {
    "name": "ipython",
    "version": 3
   },
   "file_extension": ".py",
   "mimetype": "text/x-python",
   "name": "python",
   "nbconvert_exporter": "python",
   "pygments_lexer": "ipython3",
   "version": "3.10.12"
  }
 },
 "nbformat": 4,
 "nbformat_minor": 2
}
