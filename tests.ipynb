{
 "cells": [
  {
   "cell_type": "code",
   "execution_count": 1,
   "metadata": {},
   "outputs": [],
   "source": [
    "from hxm_rag.model.modelv2.document import Document\n",
    "from hxm_rag.model.modelv2.container import Container\n",
    "from hxm_rag.model.modelv2.block import Block\n",
    "from hxm_rag.model.readersv2.PdfReader import PdfReader\n",
    "from hxm_rag.model.readers.PdfReader import PdfReader as PdfReader1\n",
    "from hxm_rag.model.readersv2.WordReader import WordReader"
   ]
  },
  {
   "cell_type": "code",
   "execution_count": 2,
   "metadata": {},
   "outputs": [],
   "source": [
    "doc = Document(\"data/SGFGAS/Présentation Epargne-logement.docx\")"
   ]
  },
  {
   "cell_type": "code",
   "execution_count": 3,
   "metadata": {},
   "outputs": [
    {
     "name": "stdout",
     "output_type": "stream",
     "text": [
      "Root container : 640ce615-f3b7-444d-9403-17142f0ae58c, Level : 0\n",
      "  Container : e2de0029-27ce-403b-b495-0ef533a07a90, Level : 1\n",
      "    Block : be0644da-3f90-4bb4-9956-b852f053ebd6, Level : 1\n",
      "  Container : 77c72d78-8c16-4d0f-8cec-9a714320976f, Level : 1\n",
      "    Block : 90096dee-0402-480e-a02d-ec9a5ee563d5, Level : 2\n",
      "  Container : 49b45dc4-8986-43f7-8833-bf205ed733d1, Level : 1\n",
      "    Block : c9e3a669-a6db-4de5-a356-f515ca99372c, Level : 2\n",
      "  Container : 09a03912-8307-47b2-b4d9-5dc161de166e, Level : 1\n",
      "    Block : 688a5139-5214-49a2-bfa1-3582c26b756d, Level : 2\n",
      "  Container : 88a586b0-d7aa-4029-a59b-6c8aa0b78c3f, Level : 1\n",
      "    Block : e70554c6-d711-4878-9f3a-730505faf1de, Level : 2\n",
      "  Container : 3e69af89-8b62-410f-8250-5685e5717fd4, Level : 1\n",
      "    Block : e1625bb1-9e19-4d3d-9354-f725efb0c983, Level : 2\n"
     ]
    }
   ],
   "source": [
    "doc.root_container.print_structure()"
   ]
  },
  {
   "cell_type": "code",
   "execution_count": 4,
   "metadata": {},
   "outputs": [],
   "source": [
    "content= doc.root_container_dict "
   ]
  },
  {
   "cell_type": "code",
   "execution_count": 5,
   "metadata": {},
   "outputs": [
    {
     "data": {
      "text/plain": [
       "{'type': 'container',\n",
       " 'children': [{'type': 'container',\n",
       "   'children': [{'type': 'block',\n",
       "     'content': 'Dernière mise à jour de cette fiche : 8 février 2018 | Dernière mise à jour de cette fiche : 8 février 2018\\n02/02/2021 | Mise à jour des liens de la documentation juridique consécutive à une migration du site Légifrance\\n\\nEpargne-logement\\xa0: présentation',\n",
       "     'level': 1,\n",
       "     'parent': {...}}],\n",
       "   'content': None,\n",
       "   'level': 1},\n",
       "  {'type': 'container',\n",
       "   'children': [{'type': 'block',\n",
       "     'content': 'Définition\\n\\nL’épargne-logement est un dispositif en deux temps. A l’issue d’une phase d’épargne, comportant des versements ponctuels ou réguliers sur un compte d’épargne-logement (CEL) ou réguliers sur un plan d’épargne-logement (PEL), il est possible d’obtenir un prêt d’épargne-logement, qui est un prêt réglementé et contractuel accordé aux personnes physiques finançant l’acquisition d’un bien immobilier et/ou le financement de travaux immobiliers. La réalisation de ce prêt est, sous certaines conditions, assortie du versement d’une prime d’Etat.\\n\\nLe prêt est accordé aux personnes physiques qui affectent cette épargne au financement de logements destinés à l’habitation principale ou bien au financement de locaux à usage commercial ou professionnel dès lors qu’ils comportent l’habitation principale du bénéficiaire (CCH, art. L. 315-1, al. 1)',\n",
       "     'level': 2,\n",
       "     'parent': {...}}],\n",
       "   'content': None,\n",
       "   'level': 2},\n",
       "  {'type': 'container',\n",
       "   'children': [{'type': 'block',\n",
       "     'content': 'Mécanisme\\n\\nLe régime de l’épargne-logement recouvre deux mécanismes, celui des comptes d’épargne-logement et celui des plans d’épargne-logement\\xa0:\\n\\nle compte d’épargne-logement (CEL) également appelé livret d’épargne-logement est caractérisé par la liberté des dépôts et des retraits sous réserve de respecter un solde minimum fixé par arrêté. Il est sans limite de durée.\\n\\nle plan d’épargne-logement (PEL) est un contrat caractérisé par l’engagement d’effectuer des versements réguliers, d’un montant minimum entre deux dates anniversaire, et de respecter un délai d’indisponibilité minimum. Sa durée est limitée.',\n",
       "     'level': 2,\n",
       "     'parent': {...}}],\n",
       "   'content': None,\n",
       "   'level': 2},\n",
       "  {'type': 'container',\n",
       "   'children': [{'type': 'block',\n",
       "     'content': 'Règlementation\\n\\nLe régime de l’épargne-logement est régi par les articles L. 315-1 à L. 315-6 du code de la construction et de l’habitation (CCH).\\n\\nLes caractéristiques de la phase d’épargne et de prêt applicables aux CEL sont réglementées par les articles R. 315-1 à R. 315-22 et celles relatives aux PEL le sont par les articles R. 315-24 à R.\\xa0 315-42 du CCH.\\n\\nSelon l’article R. 315-41, les dispositions des CEL sont applicables aux PEL sauf dérogation par disposition spécifique.\\n\\nDepuis le 1er janvier 2014, le suivi réglementaire et statistique ainsi que le contrôle des opérations relatives au régime de l’épargne-logement sont confiés à la Société de Gestion des financements et de la  Garantie de l’Accession Sociale à la propriété (CCH, art. L. 315-5-1).',\n",
       "     'level': 2,\n",
       "     'parent': {...}}],\n",
       "   'content': None,\n",
       "   'level': 2},\n",
       "  {'type': 'container',\n",
       "   'children': [{'type': 'block',\n",
       "     'content': 'Champ d’application territorial\\n\\nLe régime de l’épargne-logement est applicable en France métropolitaine et dans les DOM, y compris Mayotte (Ord. n° 2004-937 du 2 septembre 2004), ainsi qu’à Saint-Pierre-et-Miquelon (Décr. n° 95-331 du 27 mars 1995), en Nouvelle-Calédonie et en Polynésie Française (Décr. n° 2001-383 du 3 mai 2001).',\n",
       "     'level': 2,\n",
       "     'parent': {...}}],\n",
       "   'content': None,\n",
       "   'level': 2},\n",
       "  {'type': 'container',\n",
       "   'children': [{'type': 'block',\n",
       "     'content': 'Etablissements habilités\\n\\nLes dépôts d’épargne-logement sont reçus par les caisses d’épargne ordinaires ainsi que les banques qui s’engagent par convention avec l’Etat à appliquer les règles fixées pour le fonctionnement de l’épargne-logement (CCH, art. L. 315-3).\\n\\nL’Etat a accordé par convention une habilitation générale à des banques et réseaux bancaires pour la gestion des produits d’épargne-logement (au 1er juillet 2014 on recense 76 conventions en vigueur).',\n",
       "     'level': 2,\n",
       "     'parent': {...}}],\n",
       "   'content': None,\n",
       "   'level': 2}],\n",
       " 'content': None,\n",
       " 'level': 0}"
      ]
     },
     "execution_count": 5,
     "metadata": {},
     "output_type": "execute_result"
    }
   ],
   "source": [
    "content"
   ]
  },
  {
   "cell_type": "code",
   "execution_count": null,
   "metadata": {},
   "outputs": [],
   "source": []
  }
 ],
 "metadata": {
  "kernelspec": {
   "display_name": "hexs_rag_env",
   "language": "python",
   "name": "python3"
  },
  "language_info": {
   "codemirror_mode": {
    "name": "ipython",
    "version": 3
   },
   "file_extension": ".py",
   "mimetype": "text/x-python",
   "name": "python",
   "nbconvert_exporter": "python",
   "pygments_lexer": "ipython3",
   "version": "3.12.2"
  }
 },
 "nbformat": 4,
 "nbformat_minor": 2
}
